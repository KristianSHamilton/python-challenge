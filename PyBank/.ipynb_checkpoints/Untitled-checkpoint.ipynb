{
 "cells": [
  {
   "cell_type": "code",
   "execution_count": 169,
   "id": "3bcccda6",
   "metadata": {},
   "outputs": [
    {
     "name": "stdout",
     "output_type": "stream",
     "text": [
      "Financial Analysis\n",
      "-----------------------------\n",
      "Total Months: 86\n",
      "Total Profit: $38382578\n",
      "Average Change: $-2315.1176470588234\n",
      "Greatest Increase in Profits: $1926159\n",
      "Greatest Decrease in Profits: $-2196167\n"
     ]
    }
   ],
   "source": [
    "import os\n",
    "import csv\n",
    "\n",
    "monthsTotal = 0\n",
    "profitTotal = 0\n",
    "profitDelta = 0\n",
    "profitPrior = 0\n",
    "profitDeltaTotal = 0\n",
    "profitDeltaGreatest = 0\n",
    "profitDeltaLeast = 0\n",
    "\n",
    "csvPath = os.path.join( \".\",\"Resources\",\"budget_data.csv\")\n",
    "Financial_Analysis_Export = os.path.join(\".\", \"Analysis\",\"Financial_Analysis.txt\")\n",
    "\n",
    "#Read CSV from path\n",
    "with open(csvPath) as csvFile: \n",
    "\n",
    "    csvReader = csv.reader(csvFile, delimiter = \",\")\n",
    "    \n",
    "    csvHeader = next(csvReader)\n",
    "    \n",
    "    #skip headers in first row set data accordingly\n",
    "    firstRow = next(csvReader)\n",
    "    profitPrior = int(firstRow[1])\n",
    "    monthsTotal = 1\n",
    "    profitTotal = int(firstRow[1])\n",
    "    \n",
    "    for row in csvReader:\n",
    "        #increments month  variable for every row\n",
    "        monthsTotal = monthsTotal + 1\n",
    "        #adds current  row's profit to the total profit variable\n",
    "        profitTotal = profitTotal + int(row[1])\n",
    "        #calcs change in price by subtracting the last row's profit from the current\n",
    "        profitDelta = int(row[1]) - profitPrior\n",
    "#        print(profitDelta)\n",
    "        #keeps a running total of  the price changes by adding current row delta to total variable\n",
    "        profitDeltaTotal = profitDeltaTotal + profitDelta\n",
    "#        print(profitDeltaTotal)\n",
    "        #now that profitPrior has  been  used in current loop, sets variable for next loop\n",
    "        profitPrior = int(row[1])\n",
    "        #finds greatest Delta value\n",
    "        if profitDelta > profitDeltaGreatest:\n",
    "            profitDeltaGreatest = profitDelta\n",
    "        #finds smallest Delta value    \n",
    "        if profitDelta < profitDeltaLeast:\n",
    "            profitDeltaLeast = profitDelta\n",
    "\n",
    "# calc average change by dividing profit Delta by monthsTotal - 1 to account for nonexistent change on first month\n",
    "avgChange = profitDeltaTotal/(monthsTotal - 1)\n",
    "\n",
    "output = (\n",
    "\"Financial Analysis\\n\"\n",
    "\"-----------------------------\\n\"\n",
    "f\"Total Months: {monthsTotal}\\n\"\n",
    "f\"Total Profit: ${profitTotal}\\n\"\n",
    "f\"Average Change: ${avgChange}\\n\"\n",
    "f\"Greatest Increase in Profits: ${profitDeltaGreatest}\\n\"\n",
    "f\"Greatest Decrease in Profits: ${profitDeltaLeast}\"\n",
    ")\n",
    "\n",
    "print(output)\n",
    "\n",
    "with open(Financial_Analysis_Export, \"w\") as txt_file:\n",
    "    txt_file.write(output)"
   ]
  },
  {
   "cell_type": "code",
   "execution_count": null,
   "id": "9868221c",
   "metadata": {},
   "outputs": [],
   "source": []
  },
  {
   "cell_type": "code",
   "execution_count": null,
   "id": "445225d7",
   "metadata": {},
   "outputs": [],
   "source": []
  }
 ],
 "metadata": {
  "kernelspec": {
   "display_name": "Python 3",
   "language": "python",
   "name": "python3"
  },
  "language_info": {
   "codemirror_mode": {
    "name": "ipython",
    "version": 3
   },
   "file_extension": ".py",
   "mimetype": "text/x-python",
   "name": "python",
   "nbconvert_exporter": "python",
   "pygments_lexer": "ipython3",
   "version": "3.8.8"
  }
 },
 "nbformat": 4,
 "nbformat_minor": 5
}
