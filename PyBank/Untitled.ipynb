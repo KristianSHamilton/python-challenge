{
 "cells": [
  {
   "cell_type": "code",
   "execution_count": 33,
   "id": "4800fa70",
   "metadata": {},
   "outputs": [
    {
     "name": "stdout",
     "output_type": "stream",
     "text": [
      "CSV Header: ['Date', 'Profit/Losses']\n"
     ]
    }
   ],
   "source": [
    "import os\n",
    "import csv\n",
    "\n",
    "totalMonths = 0\n",
    "profitTotal = 0 \n",
    "\n",
    "csvPath = os.path.join( \".\",\"budget_data.csv\")\n",
    "\n",
    "with open(csvPath) as csvFile: \n",
    "\n",
    "    csvReader = csv.reader(csvFile, delimiter = \",\")\n",
    "    \n",
    "    csvHeader = next(csvReader)\n",
    "    print(f\"CSV Header: {csvHeader}\")\n",
    "    \n",
    "    for row in csvReader:\n",
    "        totalMonths = totalMonths + 1\n",
    "#        profitTotal = profitTotal + row[0]\n",
    "#        print(row)\n"
   ]
  },
  {
   "cell_type": "code",
   "execution_count": 28,
   "id": "52a36b12",
   "metadata": {},
   "outputs": [
    {
     "name": "stdout",
     "output_type": "stream",
     "text": [
      "86\n"
     ]
    }
   ],
   "source": []
  },
  {
   "cell_type": "code",
   "execution_count": null,
   "id": "4d423653",
   "metadata": {},
   "outputs": [],
   "source": []
  }
 ],
 "metadata": {
  "kernelspec": {
   "display_name": "Python 3",
   "language": "python",
   "name": "python3"
  },
  "language_info": {
   "codemirror_mode": {
    "name": "ipython",
    "version": 3
   },
   "file_extension": ".py",
   "mimetype": "text/x-python",
   "name": "python",
   "nbconvert_exporter": "python",
   "pygments_lexer": "ipython3",
   "version": "3.8.8"
  }
 },
 "nbformat": 4,
 "nbformat_minor": 5
}
