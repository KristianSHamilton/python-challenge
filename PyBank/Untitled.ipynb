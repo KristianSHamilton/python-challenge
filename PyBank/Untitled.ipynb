{
 "cells": [
  {
   "cell_type": "code",
   "execution_count": 141,
   "id": "3d7ee6f6",
   "metadata": {},
   "outputs": [
    {
     "name": "stdout",
     "output_type": "stream",
     "text": [
      "Financial Analysis\n",
      "-----------------------------\n",
      "Total Months: 86\n",
      "Total Profit: $38382578\n",
      "Average Change: $7803.476744186047\n",
      "Greatest Increase in Profits: $1926159\n",
      "Greatest Decrease in Profits:  $-2196167\n"
     ]
    }
   ],
   "source": [
    "import os\n",
    "import csv\n",
    "\n",
    "monthsTotal = 0\n",
    "profitTotal = 0\n",
    "profitDelta = 0\n",
    "profitPrior = 0\n",
    "profitDeltaTotal = 0\n",
    "profitDeltaGreatest = 0\n",
    "profitDeltaLeast = 0\n",
    "\n",
    "csvPath = os.path.join( \".\",\"budget_data.csv\")\n",
    "\n",
    "#Read CSV from path\n",
    "with open(csvPath) as csvFile: \n",
    "\n",
    "    csvReader = csv.reader(csvFile, delimiter = \",\")\n",
    "    \n",
    "    csvHeader = next(csvReader)\n",
    "    \n",
    "    #skip headers in first row\n",
    "    firstRow = next(csvReader)\n",
    "    profitDeltaTotal = int(firstRow[1])\n",
    "    profitPrior = int(firstRow[1])\n",
    "    monthsTotal = 1\n",
    "    profitTotal = int(firstRow[1])\n",
    "    \n",
    "    for row in csvReader:\n",
    "        #increments month  variable for every row\n",
    "        monthsTotal = monthsTotal + 1\n",
    "        #adds current  row's profit to the total profit variable\n",
    "        profitTotal = profitTotal + int(row[1])\n",
    "        #calcs change in price by subtracting the last row's profit from the current\n",
    "        profitDelta = int(row[1]) - profitPrior\n",
    "        #keeps a running total of  the price changes by adding current row delta to total variable\n",
    "        profitDeltaTotal = profitDeltaTotal + profitDelta\n",
    "        #now that profitPrior has  been  used in current loop, sets variable for next loop\n",
    "        profitPrior = int(row[1])\n",
    "        #finds greatest Delta value\n",
    "        if profitDelta > profitDeltaGreatest:\n",
    "            profitDeltaGreatest = profitDelta\n",
    "        #finds smallest Delta value    \n",
    "        if profitDelta < profitDeltaLeast:\n",
    "            profitDeltaLeast = profitDelta\n",
    "\n",
    "\n",
    "avgChange = profitDeltaTotal/monthsTotal\n",
    "\n",
    "print(\"Financial Analysis\")\n",
    "print(\"-----------------------------\")\n",
    "print(f\"Total Months: {monthsTotal}\")\n",
    "print(f\"Total Profit: ${profitTotal}\")\n",
    "print(f\"Average Change: ${avgChange}\")\n",
    "print(f\"Greatest Increase in Profits: ${profitDeltaGreatest}\")\n",
    "print(f\"Greatest Decrease in Profits:  ${profitDeltaLeast}\")\n"
   ]
  },
  {
   "cell_type": "code",
   "execution_count": null,
   "id": "178b1817",
   "metadata": {},
   "outputs": [],
   "source": []
  },
  {
   "cell_type": "code",
   "execution_count": null,
   "id": "b5072de0",
   "metadata": {},
   "outputs": [],
   "source": []
  }
 ],
 "metadata": {
  "kernelspec": {
   "display_name": "Python 3",
   "language": "python",
   "name": "python3"
  },
  "language_info": {
   "codemirror_mode": {
    "name": "ipython",
    "version": 3
   },
   "file_extension": ".py",
   "mimetype": "text/x-python",
   "name": "python",
   "nbconvert_exporter": "python",
   "pygments_lexer": "ipython3",
   "version": "3.8.8"
  }
 },
 "nbformat": 4,
 "nbformat_minor": 5
}
